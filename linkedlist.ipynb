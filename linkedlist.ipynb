{
 "cells": [
  {
   "cell_type": "code",
   "execution_count": 2,
   "metadata": {},
   "outputs": [
    {
     "name": "stdout",
     "output_type": "stream",
     "text": [
      "<__main__.Node object at 0x10f9411d0>\n",
      "10 20 25 30 "
     ]
    }
   ],
   "source": [
    "#linked list with 3 nodes\n",
    "\n",
    "class Node:\n",
    "    def __init__(self, key):\n",
    "        self.key = key\n",
    "        self.next = None\n",
    "    \n",
    "def printlist(head):\n",
    "    curr = head\n",
    "    while curr != None:\n",
    "        print(curr.key, end=\" \")\n",
    "        curr = curr.next\n",
    "        \n",
    "\n",
    "head = Node(10)\n",
    "head.next= Node(20)\n",
    "head.next.next= Node(25)\n",
    "head.next.next.next = Node(30)\n",
    "print(head)\n",
    "printlist(head)\n",
    "\n",
    "#Time complexity Q(n)\n",
    "#Aux Space : O(1)\n"
   ]
  },
  {
   "cell_type": "code",
   "execution_count": null,
   "metadata": {},
   "outputs": [],
   "source": []
  },
  {
   "cell_type": "code",
   "execution_count": null,
   "metadata": {},
   "outputs": [],
   "source": []
  }
 ],
 "metadata": {
  "interpreter": {
   "hash": "949777d72b0d2535278d3dc13498b2535136f6dfe0678499012e853ee9abcab1"
  },
  "kernelspec": {
   "display_name": "Python 3.11.2 64-bit",
   "language": "python",
   "name": "python3"
  },
  "language_info": {
   "codemirror_mode": {
    "name": "ipython",
    "version": 3
   },
   "file_extension": ".py",
   "mimetype": "text/x-python",
   "name": "python",
   "nbconvert_exporter": "python",
   "pygments_lexer": "ipython3",
   "version": "3.11.2"
  },
  "orig_nbformat": 4
 },
 "nbformat": 4,
 "nbformat_minor": 2
}
