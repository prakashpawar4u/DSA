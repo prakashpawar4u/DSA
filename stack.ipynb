{
 "cells": [
  {
   "cell_type": "code",
   "execution_count": 2,
   "metadata": {},
   "outputs": [
    {
     "name": "stdout",
     "output_type": "stream",
     "text": [
      "30\n",
      "20\n",
      "2\n"
     ]
    }
   ],
   "source": [
    "#Method 1\n",
    "stack = []\n",
    "stack.append(10)\n",
    "stack.append(20)\n",
    "stack.append(30)\n",
    "print(stack.pop())\n",
    "top=stack[-1]\n",
    "print(top)\n",
    "size = len(stack)\n",
    "print(size)"
   ]
  },
  {
   "cell_type": "code",
   "execution_count": 4,
   "metadata": {},
   "outputs": [
    {
     "name": "stdout",
     "output_type": "stream",
     "text": [
      "30\n",
      "20\n",
      "4\n"
     ]
    }
   ],
   "source": [
    "#Method 2 using deque\n",
    "from collections import deque\n",
    "stack.append(10)\n",
    "stack.append(20)\n",
    "stack.append(30)\n",
    "print(stack.pop())\n",
    "top=stack[-1]\n",
    "print(top)\n",
    "size=len(stack)\n",
    "print(size)"
   ]
  },
  {
   "cell_type": "code",
   "execution_count": 14,
   "metadata": {},
   "outputs": [
    {
     "name": "stdout",
     "output_type": "stream",
     "text": [
      "30\n",
      "20\n",
      "2\n"
     ]
    }
   ],
   "source": [
    "#Linked list implementation\n",
    "import math\n",
    "class Node:\n",
    "    def __init__(self, d):\n",
    "        self.data = d\n",
    "        self.next = None\n",
    "    \n",
    "class mystack:\n",
    "    def __init__(self):\n",
    "        self.head = None\n",
    "        self.sz = 0\n",
    "\n",
    "    \n",
    "    def push(self, x):\n",
    "        temp = Node(x)\n",
    "        temp.next = self.head\n",
    "        self.head = temp\n",
    "        self.sz = self.sz + 1\n",
    "    \n",
    "    def size(self):\n",
    "        return self.sz\n",
    "    \n",
    "    def peek(self):\n",
    "        if self.head == None:\n",
    "            return math.inf\n",
    "        return self.head.data\n",
    "    \n",
    "    def pop(self):\n",
    "        if self.head==None:\n",
    "            return math.inf\n",
    "        res = self.head.data\n",
    "        self.head = self.head.next\n",
    "        self.sz = self.sz -1\n",
    "        return res\n",
    "    \n",
    "s = mystack()\n",
    "s.push(10)\n",
    "s.push(20)\n",
    "s.push(30)\n",
    "\n",
    "print(s.pop())\n",
    "print(s.peek())\n",
    "print(s.size())"
   ]
  },
  {
   "cell_type": "code",
   "execution_count": null,
   "metadata": {},
   "outputs": [],
   "source": []
  }
 ],
 "metadata": {
  "interpreter": {
   "hash": "949777d72b0d2535278d3dc13498b2535136f6dfe0678499012e853ee9abcab1"
  },
  "kernelspec": {
   "display_name": "Python 3.11.2 64-bit",
   "language": "python",
   "name": "python3"
  },
  "language_info": {
   "codemirror_mode": {
    "name": "ipython",
    "version": 3
   },
   "file_extension": ".py",
   "mimetype": "text/x-python",
   "name": "python",
   "nbconvert_exporter": "python",
   "pygments_lexer": "ipython3",
   "version": "3.11.2"
  },
  "orig_nbformat": 4
 },
 "nbformat": 4,
 "nbformat_minor": 2
}
